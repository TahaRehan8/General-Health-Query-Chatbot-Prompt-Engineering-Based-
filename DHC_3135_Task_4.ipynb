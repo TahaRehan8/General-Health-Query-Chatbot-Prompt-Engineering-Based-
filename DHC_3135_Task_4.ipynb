{
  "nbformat": 4,
  "nbformat_minor": 0,
  "metadata": {
    "colab": {
      "provenance": []
    },
    "kernelspec": {
      "name": "python3",
      "display_name": "Python 3"
    },
    "language_info": {
      "name": "python"
    }
  },
  "cells": [
    {
      "cell_type": "code",
      "source": [
        "\"\"\"\n",
        "HealthBot - Safe Hugging Face Implementation (Token Hidden)\n",
        "Author: Your Name\n",
        "Description:\n",
        "A friendly health information chatbot using Hugging Face models.\n",
        "Token is NOT stored in the code — must be set via environment variable.\n",
        "\"\"\"\n",
        "\n",
        "import os\n",
        "import re\n",
        "from huggingface_hub import InferenceClient"
      ],
      "metadata": {
        "id": "fYAmUrQPm2td"
      },
      "execution_count": 36,
      "outputs": []
    },
    {
      "cell_type": "code",
      "source": [
        "env=\"\"\"\n",
        "HUGGINGFACE_TOKEN= enter your token here\n",
        "\"\"\""
      ],
      "metadata": {
        "id": "NgbEtq-GnAya"
      },
      "execution_count": 43,
      "outputs": []
    },
    {
      "cell_type": "code",
      "source": [
        "\n",
        "\n",
        "# ======================\n",
        "# TOKEN HANDLING\n",
        "# ======================\n",
        "HF_TOKEN = os.getenv(\"HUGGINGFACE_TOKEN\")\n",
        "\n",
        "if not HF_TOKEN:\n",
        "    raise ValueError(\n",
        "        \"❌ Hugging Face token not found.\\n\"\n",
        "        \"Set it before running:\\n\"\n",
        "        \"In Colab:  %env HUGGINGFACE_TOKEN=hf_xxx\\n\"\n",
        "        \"In Terminal: export HUGGINGFACE_TOKEN=hf_xxx\"\n",
        "    )\n",
        "\n",
        "# ======================\n",
        "# CLIENT INIT\n",
        "# ======================\n",
        "client = InferenceClient(token=HF_TOKEN)\n",
        "\n",
        "# ======================\n",
        "# SYSTEM PROMPT\n",
        "# ======================\n",
        "SYSTEM_MESSAGE = \"\"\"\n",
        "You are a helpful and friendly general health information assistant.\n",
        "\n",
        "GUIDELINES:\n",
        "1. Do NOT provide specific diagnoses, treatment plans, or personalized medical advice.\n",
        "2. Do NOT recommend medications or specific therapies.\n",
        "3. Responses are for general knowledge only — always tell users to consult a doctor for medical concerns.\n",
        "4. Be clear, friendly, and use widely accepted public health knowledge.\n",
        "\"\"\"\n",
        "\n",
        "# ======================\n",
        "# TIER 1: HARD BLOCK\n",
        "# ======================\n",
        "TIER1_PATTERNS = [\n",
        "    r\"\\btake\\s+\\d+\\s*(?:mg|milligram|g|gram|ml|milliliter|tablet|capsule|pill)s?(?:\\s+(?:once|twice|daily|per\\s+day))?\\b\",\n",
        "    r\"\\b(?:prescribe|prescription\\s+for)\\b.*\",\n",
        "    r\"\\bover[\\s-]?the[\\s-]?counter\\b.*(?:for|to treat|against)\\b.*\",\n",
        "    r\"\\bapply\\s+\\w+.*\\b(?:to|on)\\b.*(?:skin|area|wound|rash|affected)\\b\",\n",
        "    r\"\\byou\\s+(?:must|are advised to|are recommended to)\\b.*\",\n",
        "    r\"\\b(?:paracetamol|acetaminophen|ibuprofen|amoxicillin|antibiotic|aspirin)\\b.*(?:\\d+\\s*(?:mg|ml|tablet|pill)|for\\s+\\w+)\",\n",
        "]\n",
        "\n",
        "# ======================\n",
        "# TIER 2: SOFT WARN\n",
        "# ======================\n",
        "TIER2_PATTERNS = [\n",
        "    r\"\\b(?:paracetamol|acetaminophen|ibuprofen|amoxicillin|antibiotic|aspirin)\\b\",\n",
        "    r\"\\byou\\s+should\\b.*\",\n",
        "    r\"\\bit\\s+is\\s+(?:recommended|advised)\\b.*\",\n",
        "    r\"\\bconsult\\s+(?:your|a)\\s+doctor\\b\",\n",
        "]"
      ],
      "metadata": {
        "id": "Q2Gt0oIVmn-i"
      },
      "execution_count": 38,
      "outputs": []
    },
    {
      "cell_type": "code",
      "source": [
        "# ======================\n",
        "# SAFETY CHECK FUNCTION\n",
        "# ======================\n",
        "def check_medical_safety(text):\n",
        "    for pattern in TIER1_PATTERNS:\n",
        "        if re.search(pattern, text, re.IGNORECASE):\n",
        "            return \"BLOCK\"\n",
        "    for pattern in TIER2_PATTERNS:\n",
        "        if re.search(pattern, text, re.IGNORECASE):\n",
        "            return \"WARN\"\n",
        "    return \"ALLOW\""
      ],
      "metadata": {
        "id": "sQg7yGrqmwem"
      },
      "execution_count": 39,
      "outputs": []
    },
    {
      "cell_type": "code",
      "source": [
        "# ======================\n",
        "# FILTER FUNCTION\n",
        "# ======================\n",
        "def filter_response(response: str) -> str:\n",
        "    status = check_medical_safety(response)\n",
        "    if status == \"BLOCK\":\n",
        "        return \"⚠️ I can't provide direct medical instructions. Please consult a qualified healthcare professional.\"\n",
        "    elif status == \"WARN\":\n",
        "        return response + \"\\n\\n💡 Remember: For medical advice, always consult a qualified healthcare provider.\"\n",
        "    return response"
      ],
      "metadata": {
        "id": "U0_iXQBdmu_3"
      },
      "execution_count": 40,
      "outputs": []
    },
    {
      "cell_type": "code",
      "source": [
        "# ======================\n",
        "# CHATBOT RESPONSE FUNCTION\n",
        "# ======================\n",
        "def get_chatbot_response(user_query: str) -> str:\n",
        "    try:\n",
        "        completion = client.chat.completions.create(\n",
        "            model=\"mistralai/Mistral-7B-Instruct-v0.2\",\n",
        "            messages=[\n",
        "                {\"role\": \"system\", \"content\": SYSTEM_MESSAGE},\n",
        "                {\"role\": \"user\", \"content\": user_query}\n",
        "            ],\n",
        "        )\n",
        "        raw_text = completion.choices[0].message.content.strip()\n",
        "        return filter_response(raw_text)\n",
        "    except Exception as e:\n",
        "        return f\"❌ Error: {str(e)}\""
      ],
      "metadata": {
        "id": "N_zcUjcemsk6"
      },
      "execution_count": 41,
      "outputs": []
    },
    {
      "cell_type": "code",
      "source": [
        "# ======================\n",
        "# MAIN CHAT LOOP\n",
        "# ======================\n",
        "if __name__ == \"__main__\":\n",
        "    print(\"💬 HealthBot (Type '/quit' or press Enter to exit)\\n\")\n",
        "    while True:\n",
        "        user_query = input(\"You: \").strip()\n",
        "        if not user_query or user_query.lower() in {\"/quit\", \"quit\", \"exit\"}:\n",
        "            print(\"👋 Goodbye!\")\n",
        "            break\n",
        "        bot_response = get_chatbot_response(user_query)\n",
        "        print(f\"Assistant: {bot_response}\\n\" + \"-\"*40)"
      ],
      "metadata": {
        "colab": {
          "base_uri": "https://localhost:8080/"
        },
        "id": "Wo1HxqfkmrFF",
        "outputId": "ce5470c6-b84f-4332-b5f7-192da55802b5"
      },
      "execution_count": 42,
      "outputs": [
        {
          "output_type": "stream",
          "name": "stdout",
          "text": [
            "💬 HealthBot (Type '/quit' or press Enter to exit)\n",
            "\n",
            "You: \"What causes a sore throat?\"\n",
            "Assistant: ⚠️ I can't provide direct medical instructions. Please consult a qualified healthcare professional.\n",
            "----------------------------------------\n",
            "You: soure throat\n",
            "Assistant: A sore throat can be caused by various factors such as viruses, bacteria, or environmental irritants. Common symptoms include pain, redness, and swelling in the throat area. To help soothe a sore throat, here are some general suggestions:\n",
            "\n",
            "1. Stay hydrated: Drink plenty of fluids like water, clear broth, or caffeine-free teas.\n",
            "2. Gargle with saltwater: Dissolve half a teaspoon of salt in a glass of warm water, then gargle gently.\n",
            "3. Use a humidifier: Dry air can irritate a sore throat. A humidifier helps keep the air moist.\n",
            "4. Rest your voice: Avoid yelling, singing, or whispering for extended periods.\n",
            "5. Eat soft foods: Try eating foods like applesauce, rice pudding, or oatmeal.\n",
            "6. Avoid throat irritants: Stay away from spicy or acidic foods, citrus fruits, and cigarette smoke.\n",
            "7. Consider an over-the-counter pain reliever: Consult a healthcare professional before taking any medication.\n",
            "\n",
            "Remember, it's essential to consult a doctor if your sore throat persists for more than a week, is severe, or is accompanied by other symptoms like fever, chest pain, or difficulty swallowing.\n",
            "\n",
            "💡 Remember: For medical advice, always consult a qualified healthcare provider.\n",
            "----------------------------------------\n",
            "You: how to prevent sore throat\n",
            "Assistant: Sore throats are a common health issue, and there are several ways to help prevent them or alleviate symptoms. Here are some general tips:\n",
            "\n",
            "1. Practice good oral hygiene: Brush and floss your teeth twice a day, and don't forget to clean the back of your tongue.\n",
            "2. Stay hydrated: Drink plenty of fluids, especially water. Gargling with warm salt water four to five times a day can also help.\n",
            "3. Avoid irritants: Try to avoid smoky or polluted environments, and limit exposure to harsh chemicals, like those found in strong cleaning products.\n",
            "4. Gargle with sore throat remedies: Over-the-counter throat lozenges or sore throat sprays may provide temporary relief from discomfort.\n",
            "5. Guard against germs: Wash your hands frequently, especially during cold and flu season. Avoid touching your face, especially your mouth, nose, and eyes.\n",
            "6. Stay away from others who are sick: When possible, avoid close contact with people who have colds or the flu.\n",
            "7. Eat soft foods: When your throat is sore, opt for soft, mashed, or pureed foods that won't irritate it further.\n",
            "\n",
            "Remember, if your sore throat lasts longer than a week, is severe, or is accompanied by other symptoms, it's important to consult a healthcare professional. They can provide a proper diagnosis and recommend appropriate treatment.\n",
            "----------------------------------------\n",
            "You: exig\n",
            "Assistant: I'm glad you're reaching out for some general health information! The term \"exig\" isn't specific enough for me to provide a clear response. Could you please clarify what you mean by this term in the context of health or wellness? I'd be more than happy to help answer any questions you may have about common health topics, healthy habits, nutrition, or other general wellness-related issues. Just remember, I can't provide specific diagnoses or personalized medical advice. If you have concerns about your health, it's always best to consult a healthcare professional for their expert guidance. Stay well!\n",
            "----------------------------------------\n",
            "You: exit\n",
            "👋 Goodbye!\n"
          ]
        }
      ]
    }
  ]
}